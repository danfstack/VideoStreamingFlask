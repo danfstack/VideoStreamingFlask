{
    "cells": [
        {
            "cell_type": "code",
            "execution_count": 1,
            "source": [
                "msg = \"hello world!\"\n",
                "print(msg)"
            ],
            "outputs": [
                {
                    "output_type": "stream",
                    "name": "stdout",
                    "text": [
                        "hello world!\n"
                    ]
                }
            ],
            "metadata": {}
        }
    ],
    "metadata": {
        "orig_nbformat": 4,
        "language_info": {
            "name": "python",
            "version": "3.7.11",
            "mimetype": "text/x-python",
            "codemirror_mode": {
                "name": "ipython",
                "version": 3
            },
            "pygments_lexer": "ipython3",
            "nbconvert_exporter": "python",
            "file_extension": ".py"
        },
        "kernelspec": {
            "name": "python3",
            "display_name": "Python 3.7.11 64-bit ('myENV': conda)"
        },
        "interpreter": {
            "hash": "026d844d80cb3d20478b122f058017c7a4597aa8403a89bb5ac3fa3b602da323"
        }
    },
    "nbformat": 4,
    "nbformat_minor": 2
}